{
  "nbformat": 4,
  "nbformat_minor": 0,
  "metadata": {
    "colab": {
      "provenance": [],
      "gpuType": "T4"
    },
    "kernelspec": {
      "name": "python3",
      "display_name": "Python 3"
    },
    "language_info": {
      "name": "python"
    },
    "accelerator": "GPU"
  },
  "cells": [
    {
      "cell_type": "code",
      "execution_count": null,
      "metadata": {
        "id": "rD7BJnFfaNsm"
      },
      "outputs": [],
      "source": [
        "!git clone https://github.com/PedroOrtix/ID_Inpainter.git\n",
        "%cd ID_Inpainter/florence_sam\n",
        "!pip install -r requirements.txt -q\n",
        "!pip install \"jax[cuda12_pip]==0.4.23\" -f https://storage.googleapis.com/jax-releases/jax_cuda_releases.html -q"
      ]
    },
    {
      "cell_type": "code",
      "source": [
        "%cd ID_Inpainter/florence_sam"
      ],
      "metadata": {
        "id": "pUwj9UYpGwC-"
      },
      "execution_count": null,
      "outputs": []
    },
    {
      "cell_type": "code",
      "source": [
        "HOME = '/content/ID_Inpainter/florence_sam'\n",
        "!wget -q https://dl.fbaipublicfiles.com/segment_anything_2/072824/sam2_hiera_tiny.pt -P {HOME}/checkpoints\n",
        "!wget -q https://dl.fbaipublicfiles.com/segment_anything_2/072824/sam2_hiera_small.pt -P {HOME}/checkpoints\n",
        "!wget -q https://dl.fbaipublicfiles.com/segment_anything_2/072824/sam2_hiera_base_plus.pt -P {HOME}/checkpoints\n",
        "!wget -q https://dl.fbaipublicfiles.com/segment_anything_2/072824/sam2_hiera_large.pt -P {HOME}/checkpoints"
      ],
      "metadata": {
        "id": "-y4xD7VFGgZ9"
      },
      "execution_count": 2,
      "outputs": []
    },
    {
      "cell_type": "code",
      "source": [
        "# black signature, thin black line # as a prompt\n",
        "!gradio app.py"
      ],
      "metadata": {
        "id": "xxHc3_RvGyS1"
      },
      "execution_count": null,
      "outputs": []
    }
  ]
}