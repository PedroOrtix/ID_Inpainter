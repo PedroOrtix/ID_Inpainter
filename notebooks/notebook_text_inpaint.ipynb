{
  "cells": [
    {
      "cell_type": "code",
      "execution_count": null,
      "metadata": {
        "colab": {
          "base_uri": "https://localhost:8080/"
        },
        "collapsed": true,
        "id": "7xpRUzAPzkMI",
        "outputId": "30c2549b-21f5-407a-d5d8-59518992d810"
      },
      "outputs": [],
      "source": [
        "!git clone https://github.com/PedroOrtix/ID_Inpainter.git\n",
        "%cd ID_Inpainter\n",
        "!pip install -r requirements.txt -q\n",
        "!pip install \"jax[cuda12_pip]==0.4.23\" -f https://storage.googleapis.com/jax-releases/jax_cuda_releases.html -q"
      ]
    },
    {
      "cell_type": "code",
      "execution_count": null,
      "metadata": {
        "colab": {
          "base_uri": "https://localhost:8080/"
        },
        "id": "3Y7Kn--pZnqQ",
        "outputId": "ce56cf10-6cb0-4ab1-9a34-938d9d004ecb"
      },
      "outputs": [],
      "source": [
        "%cd ID_Inpainter"
      ]
    },
    {
      "cell_type": "code",
      "execution_count": null,
      "metadata": {
        "colab": {
          "base_uri": "https://localhost:8080/"
        },
        "id": "3UxXRuXfkS6g",
        "outputId": "070feaae-b2f4-464f-ebe2-dfe55d247d10"
      },
      "outputs": [],
      "source": [
        "from paddleocr import PaddleOCR\n",
        "import numpy as np\n",
        "import PIL.Image as Image\n",
        "import matplotlib.pyplot as plt\n",
        "from scipy import ndimage\n",
        "\n",
        "from src.text_inpaint.utils import separar_cadenas, mostrar_diccionario_ascii\n",
        "\n",
        "import src.text_inpaint.ocr as ocr\n",
        "from src.text_inpaint.ocr import recalcular_cuadricula_rotada\n",
        "from src.text_inpaint.ocr import comparar_imagenes\n",
        "from src.text_inpaint.ocr import reemplazar_parte_imagen\n",
        "from src.text_inpaint.ocr import juntar_imagenes_vertical, rellenar_imagen_uniformemente\n",
        "from src.text_inpaint.ocr import recortar_imagen_uniformemente\n",
        "from src.text_inpaint.run import simple_inpaint\n",
        "\n"
      ]
    },
    {
      "cell_type": "code",
      "execution_count": null,
      "metadata": {
        "collapsed": true,
        "id": "WYb3fqGzU4ry"
      },
      "outputs": [],
      "source": [
        "#open a file containing the image\n",
        "img = Image.open('images/imagen_dni.jpg')\n",
        "\n",
        "# SOLO SI LA IMAGEN TIENE MUCHA RESOLUCIÓN\n",
        "# Especificar el nuevo tamaño (por ejemplo, la mitad de la resolución original)\n",
        "# nuevo_tamaño = (img.width // 2, img.height // 2)\n",
        "# # Redimensionar la imagen\n",
        "# img = img.resize(nuevo_tamaño, Image.ANTIALIAS)\n",
        "\n",
        "img_array = np.array(img)\n",
        "\n",
        "# Inicializar el modelo OCR Paddle\n",
        "model = PaddleOCR(use_angle_cls=True, lang='es')  # 'es' para español\n",
        "# Realiza OCR\n",
        "result = model.ocr(img_array)\n",
        "bounds = ocr.convert_paddle_to_easyocr(result)\n",
        "\n",
        "# Imprime los nombres (textos) de los cuadros delimitadores\n",
        "# tres nombres /n tres nombres\n",
        "lista_elementos_detectados = []\n",
        "for bound in bounds:\n",
        "    lista_elementos_detectados.append(bound[1])\n",
        "\n",
        "dict_elems = separar_cadenas(lista_elementos_detectados)\n",
        "mostrar_diccionario_ascii(dict_elems)"
      ]
    },
    {
      "cell_type": "code",
      "execution_count": null,
      "metadata": {
        "id": "utCwxhJylIqx"
      },
      "outputs": [],
      "source": [
        "palabra = \"039936\"\n",
        "replace = \"127648\"\n",
        "slider_step = 30\n",
        "slider_guidance = 2\n",
        "slider_batch = 6"
      ]
    },
    {
      "cell_type": "code",
      "execution_count": null,
      "metadata": {
        "colab": {
          "base_uri": "https://localhost:8080/",
          "height": 1000
        },
        "id": "BYXa01osU4rz",
        "outputId": "b4fcef79-989a-431b-9768-5b3c0230784d"
      },
      "outputs": [],
      "source": [
        "from src.text_inpaint.run import process_image\n",
        "modified_images, right_bounds, coordenadas_originales = process_image(palabra = palabra,\n",
        "                replace = replace,\n",
        "                bounds=bounds,\n",
        "                img_array=img_array,\n",
        "                height=256,\n",
        "                weight=512,\n",
        "                slider_step=30,\n",
        "                slider_guidance=2,\n",
        "                slider_batch=6,\n",
        "                show_plot=True,\n",
        "                save_intermediate_images=True)\n"
      ]
    },
    {
      "cell_type": "code",
      "execution_count": null,
      "metadata": {
        "id": "ZrXhI11G2wD6"
      },
      "outputs": [],
      "source": [
        "# elegir cual te gusta mas\n",
        "modified_images[5].save(\"images/modified_image.jpg\")"
      ]
    },
    {
      "cell_type": "code",
      "execution_count": null,
      "metadata": {
        "colab": {
          "base_uri": "https://localhost:8080/",
          "height": 59
        },
        "collapsed": true,
        "id": "Sf-qKhMKl1Oz",
        "outputId": "0ea100b5-3d73-47b4-9680-676d84bf70da"
      },
      "outputs": [],
      "source": [
        "# ver la comparacion entre lo que se ha hecho inpaint\n",
        "coodinates = np.array(right_bounds[0][0], dtype = int).flatten()\n",
        "comparar_imagenes(\"images/imagen_dni_recortada.jpg\",\n",
        "                  \"images/modified_image.jpg\",\n",
        "                  coodinates,\n",
        "                  save_path=\"./\",\n",
        "                  adjust_temp=False)\n"
      ]
    },
    {
      "cell_type": "code",
      "execution_count": null,
      "metadata": {
        "id": "AvEX7yGMQxyB"
      },
      "outputs": [],
      "source": [
        "img_pil = Image.open(\"images/imagen_dni_recortada.jpg\")"
      ]
    },
    {
      "cell_type": "code",
      "execution_count": null,
      "metadata": {
        "id": "u9jsJEuIzkMV"
      },
      "outputs": [],
      "source": [
        "# reemplazar la parte de la imagen original(512x512) por la modificada (boundong box modificada)\n",
        "img_recortada_mod = reemplazar_parte_imagen(img_pil,\n",
        "                                            modified_images[5],\n",
        "                                            coodinates,\n",
        "                                            adjust_temp=False)"
      ]
    },
    {
      "cell_type": "code",
      "execution_count": null,
      "metadata": {
        "id": "Pt9_u_XAvWkT"
      },
      "outputs": [],
      "source": [
        "img_recortada_mod.save(\"images/img_recortada_mod.jpg\")"
      ]
    },
    {
      "cell_type": "code",
      "execution_count": null,
      "metadata": {
        "id": "8CNdX0cAvuC2"
      },
      "outputs": [],
      "source": [
        "#return to the originar size before the padding\n",
        "img_recortada_mod, _ = recortar_imagen_uniformemente(img_recortada_mod)\n",
        "# take the half of the image horizontally of img_recortad_mod\n",
        "img_recortada_mod = img_recortada_mod.crop((0, 0, img_recortada_mod.width, img_recortada_mod.height//2))\n",
        "img_recortada_mod.save(\"images/img_recortada_mod.jpg\")"
      ]
    },
    {
      "cell_type": "code",
      "execution_count": null,
      "metadata": {
        "id": "2f1Pnrt5zkMW"
      },
      "outputs": [],
      "source": [
        "# superponer la imagen 512x512 modificada a la original\n",
        "img_array = img_array[:, :, :3]\n",
        "x_min, y_min, x_max, y_max = coordenadas_originales\n",
        "img_array[y_min:y_max, x_min:x_max] = np.array(img_recortada_mod)[:, :, :]"
      ]
    },
    {
      "cell_type": "code",
      "execution_count": null,
      "metadata": {
        "id": "alXTMnxOzkMW"
      },
      "outputs": [],
      "source": [
        "Image.fromarray(img_array).save(\"images/resultado_final.jpg\")"
      ]
    }
  ],
  "metadata": {
    "accelerator": "GPU",
    "colab": {
      "gpuType": "T4",
      "provenance": []
    },
    "kernelspec": {
      "display_name": "Python 3",
      "name": "python3"
    },
    "language_info": {
      "codemirror_mode": {
        "name": "ipython",
        "version": 3
      },
      "file_extension": ".py",
      "mimetype": "text/x-python",
      "name": "python",
      "nbconvert_exporter": "python",
      "pygments_lexer": "ipython3",
      "version": "3.10.14"
    }
  },
  "nbformat": 4,
  "nbformat_minor": 0
}
