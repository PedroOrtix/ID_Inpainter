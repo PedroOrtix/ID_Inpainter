{
  "cells": [
    {
      "cell_type": "code",
      "execution_count": null,
      "metadata": {
        "colab": {
          "base_uri": "https://localhost:8080/"
        },
        "collapsed": true,
        "id": "7xpRUzAPzkMI",
        "outputId": "6e050c82-57c5-4ebf-ef55-bf0c27a8ac06"
      },
      "outputs": [],
      "source": [
        "!git clone https://github.com/PedroOrtix/ID_Inpainter.git\n",
        "%cd ID_Inpainter\n",
        "!pip install -r requirements.txt -q\n",
        "!pip install \"jax[cuda12_pip]==0.4.23\" -f https://storage.googleapis.com/jax-releases/jax_cuda_releases.html -q"
      ]
    },
    {
      "cell_type": "code",
      "execution_count": null,
      "metadata": {
        "colab": {
          "base_uri": "https://localhost:8080/"
        },
        "id": "3Y7Kn--pZnqQ",
        "outputId": "1a72b6ad-e355-4eb2-9564-e6608f931b3a"
      },
      "outputs": [],
      "source": [
        "%cd ID_Inpainter"
      ]
    },
    {
      "cell_type": "code",
      "execution_count": null,
      "metadata": {
        "colab": {
          "base_uri": "https://localhost:8080/"
        },
        "id": "3UxXRuXfkS6g",
        "outputId": "83ae5dd3-9b18-48c6-da7f-f4e14f0f502f"
      },
      "outputs": [],
      "source": [
        "from paddleocr import PaddleOCR\n",
        "import numpy as np\n",
        "import PIL.Image as Image\n",
        "import matplotlib.pyplot as plt\n",
        "\n",
        "from utils import separar_cadenas, mostrar_diccionario_ascii\n",
        "\n",
        "import ocr\n",
        "from ocr import recalcular_cuadricula_rotada\n",
        "from ocr import comparar_imagenes\n",
        "from ocr import reemplazar_parte_imagen\n",
        "\n",
        "from run import simple_inpaint\n",
        "\n",
        "import matplotlib.pyplot as plt\n",
        "from scipy import ndimage"
      ]
    },
    {
      "cell_type": "code",
      "execution_count": null,
      "metadata": {
        "colab": {
          "base_uri": "https://localhost:8080/"
        },
        "id": "WYb3fqGzU4ry",
        "outputId": "3f2e67ed-3193-4820-c9db-834cab5b96e1"
      },
      "outputs": [],
      "source": [
        "#open a file containing the image\n",
        "img = Image.open('images/imagen_dni.jpg')\n",
        "\n",
        "# SOLO SI LA IMAGEN TIENE MUCHA RESOLUCIÓN\n",
        "# Especificar el nuevo tamaño (por ejemplo, la mitad de la resolución original)\n",
        "# nuevo_tamaño = (img.width // 2, img.height // 2)\n",
        "# # Redimensionar la imagen\n",
        "# img = img.resize(nuevo_tamaño, Image.ANTIALIAS)\n",
        "\n",
        "img_array = np.array(img)\n",
        "\n",
        "# Inicializar el modelo OCR Paddle\n",
        "model = PaddleOCR(use_angle_cls=True, lang='es')  # 'es' para español\n",
        "# Realiza OCR\n",
        "result = model.ocr(img_array)\n",
        "bounds = ocr.convert_paddle_to_easyocr(result)\n",
        "\n",
        "# Imprime los nombres (textos) de los cuadros delimitadores\n",
        "# tres nombres /n tres nombres\n",
        "lista_elementos_detectados = []\n",
        "for bound in bounds:\n",
        "    lista_elementos_detectados.append(bound[1])\n",
        "    \n",
        "dict_elems = separar_cadenas(lista_elementos_detectados)\n",
        "mostrar_diccionario_ascii(dict_elems)"
      ]
    },
    {
      "cell_type": "code",
      "execution_count": null,
      "metadata": {},
      "outputs": [],
      "source": [
        "img_resized, coordenadas_originales = ocr.recortar_imagen(bounds, \"STEVEN\", img_array, nueva_dimension=512)"
      ]
    },
    {
      "cell_type": "code",
      "execution_count": null,
      "metadata": {},
      "outputs": [],
      "source": [
        "img_pil = Image.fromarray(img_resized).convert('RGB')\n",
        "img_pil.save(\"images/imagen_dni_recortada.jpg\")"
      ]
    },
    {
      "cell_type": "code",
      "execution_count": null,
      "metadata": {},
      "outputs": [],
      "source": [
        "# Inicializar el modelo OCR Paddle\n",
        "model = PaddleOCR(use_angle_cls=True, lang='es')  # 'es' para español\n",
        "# Step 2: Perform OCR on the resized and cropped image to identify word bounding boxes\n",
        "bounds_resized = model.ocr(np.array(img_pil))\n",
        "bounds_resized = ocr.convert_paddle_to_easyocr(bounds_resized)\n",
        "bounds_resized"
      ]
    },
    {
      "cell_type": "code",
      "execution_count": null,
      "metadata": {
        "colab": {
          "base_uri": "https://localhost:8080/"
        },
        "id": "BYXa01osU4rz",
        "outputId": "e0566584-4713-414f-c928-052a40597064"
      },
      "outputs": [],
      "source": [
        "from run import process_image\n",
        "modified_images, right_bounds, coordenadas_originales = process_image(palabra = \"STEVEN\", \n",
        "                replace = \"FRANCISCO\",\n",
        "                bounds=bounds,\n",
        "                img_array=img_array,\n",
        "                slider_step=30,\n",
        "                slider_guidance=2,\n",
        "                slider_batch=6,\n",
        "                show_plot=True,\n",
        "                save_intermediate_images=True)\n"
      ]
    },
    {
      "cell_type": "code",
      "execution_count": null,
      "metadata": {
        "id": "ZrXhI11G2wD6"
      },
      "outputs": [],
      "source": [
        "# elegir cual te gusta mas\n",
        "modified_images[5].save(\"images/modified_image.jpg\")"
      ]
    },
    {
      "cell_type": "code",
      "execution_count": null,
      "metadata": {
        "colab": {
          "base_uri": "https://localhost:8080/",
          "height": 45
        },
        "collapsed": true,
        "id": "Sf-qKhMKl1Oz",
        "outputId": "2feeb364-ba42-43e4-ce2b-630acbd3de56"
      },
      "outputs": [],
      "source": [
        "# ver la comparacion entre lo que se ha hecho inpaint\n",
        "coodinates = np.array(right_bounds[0][0], dtype = int).flatten()\n",
        "comparar_imagenes(\"images/imagen_dni_recortada.jpg\", \n",
        "                  \"images/modified_image.jpg\", \n",
        "                  coodinates, \n",
        "                  save_path=None,\n",
        "                  adjust_temp=True)\n"
      ]
    },
    {
      "cell_type": "code",
      "execution_count": null,
      "metadata": {
        "id": "u9jsJEuIzkMV"
      },
      "outputs": [],
      "source": [
        "# reemplazar la parte de la imagen original(512x512) por la modificada (boundong box modificada)\n",
        "img_recortada_mod = reemplazar_parte_imagen(\"images/imagen_dni_recortada.jpg\",\n",
        "                                            \"images/modified_image.jpg\",\n",
        "                                            coodinates,\n",
        "                                            adjust_temp=False)"
      ]
    },
    {
      "cell_type": "code",
      "execution_count": null,
      "metadata": {
        "id": "2f1Pnrt5zkMW"
      },
      "outputs": [],
      "source": [
        "# superponer la imagen 512x512 modificada a la original\n",
        "img_array = img_array[:, :, :3]\n",
        "x_min, y_min, x_max, y_max = coordenadas_originales\n",
        "img_array[y_min:y_max, x_min:x_max] = img_recortada_mod"
      ]
    },
    {
      "cell_type": "code",
      "execution_count": null,
      "metadata": {
        "id": "alXTMnxOzkMW"
      },
      "outputs": [],
      "source": [
        "Image.fromarray(img_array).save(\"images/resultado_final.jpg\")"
      ]
    }
  ],
  "metadata": {
    "accelerator": "GPU",
    "colab": {
      "gpuType": "T4",
      "provenance": []
    },
    "kernelspec": {
      "display_name": "Python 3",
      "name": "python3"
    },
    "language_info": {
      "codemirror_mode": {
        "name": "ipython",
        "version": 3
      },
      "file_extension": ".py",
      "mimetype": "text/x-python",
      "name": "python",
      "nbconvert_exporter": "python",
      "pygments_lexer": "ipython3",
      "version": "3.10.14"
    }
  },
  "nbformat": 4,
  "nbformat_minor": 0
}
